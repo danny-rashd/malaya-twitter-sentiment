{
 "cells": [
  {
   "cell_type": "code",
   "execution_count": 1,
   "metadata": {},
   "outputs": [
    {
     "name": "stderr",
     "output_type": "stream",
     "text": [
      "c:\\Users\\User\\myenv\\lib\\site-packages\\malaya_boilerplate\\frozen_graph.py:28: UserWarning: Cannot import beam_search_ops from Tensorflow Addons, `deep_model` for stemmer will not available to use, make sure Tensorflow Addons version >= 0.12.0\n",
      "  warnings.warn(\n"
     ]
    },
    {
     "name": "stdout",
     "output_type": "stream",
     "text": [
      "CPU times: total: 3.53 s\n",
      "Wall time: 3.69 s\n"
     ]
    }
   ],
   "source": [
    "%%time\n",
    "import malaya\n",
    "import tweepy\n",
    "import pandas as pd\n",
    "import re   \n",
    "from wordcloud import WordCloud\n",
    "import matplotlib as mpl\n",
    "import matplotlib.pyplot as plt\n",
    "plt.style.use('fivethirtyeight')\n",
    "from pprint import pprint"
   ]
  },
  {
   "cell_type": "code",
   "execution_count": 2,
   "metadata": {},
   "outputs": [],
   "source": [
    "consumer_key = 'XiskKweI7YmS1XhyQtgon9KiC'\n",
    "consumer_secret = 'ZlQTnJ9KVydN0wkOF1wQUgSw27yDkoHt4cZB8naGoYLxM8YWXb'\n",
    "access_token = '402749260-966yCx3SGNyYCzrVYPUC8L3Pphc1rkg8m7d9YniF'\n",
    "access_token_secret = '7o2Agu8oyoL25pOd3T4MSb3zuIXNtFKcaEz269gzdf2Bi'\n",
    "\n",
    "auth=tweepy.OAuthHandler(consumer_key,consumer_secret)\n",
    "auth.set_access_token(access_token,access_token_secret)"
   ]
  },
  {
   "cell_type": "code",
   "execution_count": 3,
   "metadata": {},
   "outputs": [],
   "source": [
    "api=tweepy.API(auth)"
   ]
  },
  {
   "cell_type": "code",
   "execution_count": 4,
   "metadata": {},
   "outputs": [],
   "source": [
    "# regex_txt = \"https\"\n",
    "# regex = re.compile(regex_txt, re.IGNORECASE)\n",
    "# match = regex.search(regex_txt)  # From your file reading code.\n",
    "# if match is not None:\n",
    "#     break\n",
    "q=\"brgsjks\""
   ]
  },
  {
   "cell_type": "code",
   "execution_count": 5,
   "metadata": {},
   "outputs": [
    {
     "name": "stdout",
     "output_type": "stream",
     "text": [
      "1)Dah la tiba2 ada masalah, nak menangis dah lepastu kena pressured lagi kena paksa present depan dia. But u gotta work professional tak boleh menangis in front of people. Elok je org tu blah berderai noq air mata. https://t.co/pP7YvB8ebw \n",
      "\n",
      "2)Salah faham umat dalam satu tweet. https://t.co/XSOyZooavB \n",
      "\n",
      "3)sama la baru start hujan ni https://t.co/ZhzQZFsr6t \n",
      "\n",
      "4)This thread 🫂💖 https://t.co/dR6ZTlcBpL \n",
      "\n",
      "5)BF wasep nk break.\n",
      "Mcm nk nagis, tp cm aku bnyak keje siot, pg2 ko reply aku cmni? Apekah..\n",
      "\n",
      "Eh, dah jd ex BF dah https://t.co/UJDpcnQHMs \n",
      "\n",
      "6)masalahnya dia ni @chennievocal, lelaki ke perempuan ke semua dia suka 🥲 https://t.co/79S6sP62uW \n",
      "\n",
      "7)https://t.co/DgrPc4Heyt https://t.co/Nw8B2HO4a3 \n",
      "\n",
      "8)🤣🤣 https://t.co/bwi7AIyqrK \n",
      "\n",
      "9)🤣 https://t.co/VwECJBwOqP \n",
      "\n",
      "10)Yessss my syg is exactly macam ni ❣ https://t.co/FmYqWAQDYr \n",
      "\n"
     ]
    }
   ],
   "source": [
    "public_tweets=api.search_tweets(q+' exclude:retweets exclude:replies',count='10',tweet_mode=\"extended\")\n",
    "i=1\n",
    "for tweet in public_tweets:\n",
    "    print(str(i)+')'+tweet.full_text+\" \\n\")\n",
    "    i=i+1"
   ]
  },
  {
   "cell_type": "code",
   "execution_count": 6,
   "metadata": {},
   "outputs": [
    {
     "data": {
      "text/html": [
       "<div>\n",
       "<style scoped>\n",
       "    .dataframe tbody tr th:only-of-type {\n",
       "        vertical-align: middle;\n",
       "    }\n",
       "\n",
       "    .dataframe tbody tr th {\n",
       "        vertical-align: top;\n",
       "    }\n",
       "\n",
       "    .dataframe thead th {\n",
       "        text-align: right;\n",
       "    }\n",
       "</style>\n",
       "<table border=\"1\" class=\"dataframe\">\n",
       "  <thead>\n",
       "    <tr style=\"text-align: right;\">\n",
       "      <th></th>\n",
       "      <th>Tweets</th>\n",
       "    </tr>\n",
       "  </thead>\n",
       "  <tbody>\n",
       "    <tr>\n",
       "      <th>0</th>\n",
       "      <td>Dah la tiba2 ada masalah, nak menangis dah lepastu kena pressured lagi kena paksa present depan dia. But u gotta work professional tak boleh menangis in front of people. Elok je org tu blah berderai noq air mata. https://t.co/pP7YvB8ebw</td>\n",
       "    </tr>\n",
       "    <tr>\n",
       "      <th>1</th>\n",
       "      <td>Salah faham umat dalam satu tweet. https://t.co/XSOyZooavB</td>\n",
       "    </tr>\n",
       "    <tr>\n",
       "      <th>2</th>\n",
       "      <td>sama la baru start hujan ni https://t.co/ZhzQZFsr6t</td>\n",
       "    </tr>\n",
       "    <tr>\n",
       "      <th>3</th>\n",
       "      <td>This thread 🫂💖 https://t.co/dR6ZTlcBpL</td>\n",
       "    </tr>\n",
       "    <tr>\n",
       "      <th>4</th>\n",
       "      <td>BF wasep nk break.\\nMcm nk nagis, tp cm aku bnyak keje siot, pg2 ko reply aku cmni? Apekah..\\n\\nEh, dah jd ex BF dah https://t.co/UJDpcnQHMs</td>\n",
       "    </tr>\n",
       "  </tbody>\n",
       "</table>\n",
       "</div>"
      ],
      "text/plain": [
       "                                                                                                                                                                                                                                         Tweets\n",
       "0  Dah la tiba2 ada masalah, nak menangis dah lepastu kena pressured lagi kena paksa present depan dia. But u gotta work professional tak boleh menangis in front of people. Elok je org tu blah berderai noq air mata. https://t.co/pP7YvB8ebw\n",
       "1                                                                                                                                                                                    Salah faham umat dalam satu tweet. https://t.co/XSOyZooavB\n",
       "2                                                                                                                                                                                           sama la baru start hujan ni https://t.co/ZhzQZFsr6t\n",
       "3                                                                                                                                                                                                        This thread 🫂💖 https://t.co/dR6ZTlcBpL\n",
       "4                                                                                                  BF wasep nk break.\\nMcm nk nagis, tp cm aku bnyak keje siot, pg2 ko reply aku cmni? Apekah..\\n\\nEh, dah jd ex BF dah https://t.co/UJDpcnQHMs"
      ]
     },
     "execution_count": 6,
     "metadata": {},
     "output_type": "execute_result"
    }
   ],
   "source": [
    "pd.set_option('display.max_colwidth', None)\n",
    "df = pd.DataFrame([tweet.full_text for tweet in public_tweets], columns=['Tweets'])\n",
    "\n",
    "# Show 5 rows of data\n",
    "df.head()"
   ]
  },
  {
   "cell_type": "code",
   "execution_count": 8,
   "metadata": {},
   "outputs": [
    {
     "data": {
      "text/html": [
       "<div>\n",
       "<style scoped>\n",
       "    .dataframe tbody tr th:only-of-type {\n",
       "        vertical-align: middle;\n",
       "    }\n",
       "\n",
       "    .dataframe tbody tr th {\n",
       "        vertical-align: top;\n",
       "    }\n",
       "\n",
       "    .dataframe thead th {\n",
       "        text-align: right;\n",
       "    }\n",
       "</style>\n",
       "<table border=\"1\" class=\"dataframe\">\n",
       "  <thead>\n",
       "    <tr style=\"text-align: right;\">\n",
       "      <th></th>\n",
       "      <th>Tweets</th>\n",
       "      <th>name_length</th>\n",
       "    </tr>\n",
       "  </thead>\n",
       "  <tbody>\n",
       "    <tr>\n",
       "      <th>0</th>\n",
       "      <td>Dah la tiba2 ada masalah, nak menangis dah lepastu kena pressured lagi kena paksa present depan dia. But u gotta work professional tak boleh menangis in front of people. Elok je org tu blah berderai noq air mata.</td>\n",
       "      <td>213</td>\n",
       "    </tr>\n",
       "    <tr>\n",
       "      <th>1</th>\n",
       "      <td>Salah faham umat dalam satu tweet.</td>\n",
       "      <td>35</td>\n",
       "    </tr>\n",
       "    <tr>\n",
       "      <th>2</th>\n",
       "      <td>sama la baru start hujan ni</td>\n",
       "      <td>28</td>\n",
       "    </tr>\n",
       "    <tr>\n",
       "      <th>3</th>\n",
       "      <td>This thread 🫂💖</td>\n",
       "      <td>15</td>\n",
       "    </tr>\n",
       "    <tr>\n",
       "      <th>4</th>\n",
       "      <td>BF wasep nk break.\\nMcm nk nagis, tp cm aku bnyak keje siot, pg2 ko reply aku cmni? Apekah..\\n\\nEh, dah jd ex BF dah</td>\n",
       "      <td>114</td>\n",
       "    </tr>\n",
       "  </tbody>\n",
       "</table>\n",
       "</div>"
      ],
      "text/plain": [
       "                                                                                                                                                                                                                  Tweets  \\\n",
       "0  Dah la tiba2 ada masalah, nak menangis dah lepastu kena pressured lagi kena paksa present depan dia. But u gotta work professional tak boleh menangis in front of people. Elok je org tu blah berderai noq air mata.    \n",
       "1                                                                                                                                                                                    Salah faham umat dalam satu tweet.    \n",
       "2                                                                                                                                                                                           sama la baru start hujan ni    \n",
       "3                                                                                                                                                                                                        This thread 🫂💖    \n",
       "4                                                                                                  BF wasep nk break.\\nMcm nk nagis, tp cm aku bnyak keje siot, pg2 ko reply aku cmni? Apekah..\\n\\nEh, dah jd ex BF dah    \n",
       "\n",
       "   name_length  \n",
       "0          213  \n",
       "1           35  \n",
       "2           28  \n",
       "3           15  \n",
       "4          114  "
      ]
     },
     "execution_count": 8,
     "metadata": {},
     "output_type": "execute_result"
    }
   ],
   "source": [
    "# filter columns\n",
    "def cleanTweet(tweet):\n",
    "    tweet= re.sub(r'https?:\\/\\/\\S+','',tweet) #remove hyperlinks\n",
    "    tweet=re.sub(r'&[A-Za-z0-9!@#$%^&*()]','', tweet) \n",
    "    return tweet\n",
    "\n",
    "df['Tweets']=df['Tweets'].apply(cleanTweet)\n",
    "df['name_length'] = df['Tweets'].str.len()\n",
    "df.head()"
   ]
  },
  {
   "cell_type": "code",
   "execution_count": 9,
   "metadata": {},
   "outputs": [
    {
     "data": {
      "text/html": [
       "<div>\n",
       "<style scoped>\n",
       "    .dataframe tbody tr th:only-of-type {\n",
       "        vertical-align: middle;\n",
       "    }\n",
       "\n",
       "    .dataframe tbody tr th {\n",
       "        vertical-align: top;\n",
       "    }\n",
       "\n",
       "    .dataframe thead th {\n",
       "        text-align: right;\n",
       "    }\n",
       "</style>\n",
       "<table border=\"1\" class=\"dataframe\">\n",
       "  <thead>\n",
       "    <tr style=\"text-align: right;\">\n",
       "      <th></th>\n",
       "      <th>Size (MB)</th>\n",
       "      <th>Quantized Size (MB)</th>\n",
       "      <th>WER</th>\n",
       "    </tr>\n",
       "  </thead>\n",
       "  <tbody>\n",
       "    <tr>\n",
       "      <th>t5</th>\n",
       "      <td>1250.0</td>\n",
       "      <td>481.00</td>\n",
       "      <td>0.017890</td>\n",
       "    </tr>\n",
       "    <tr>\n",
       "      <th>small-t5</th>\n",
       "      <td>355.6</td>\n",
       "      <td>195.00</td>\n",
       "      <td>0.018797</td>\n",
       "    </tr>\n",
       "    <tr>\n",
       "      <th>tiny-t5</th>\n",
       "      <td>208.0</td>\n",
       "      <td>103.00</td>\n",
       "      <td>0.032804</td>\n",
       "    </tr>\n",
       "    <tr>\n",
       "      <th>super-tiny-t5</th>\n",
       "      <td>81.8</td>\n",
       "      <td>27.10</td>\n",
       "      <td>0.035114</td>\n",
       "    </tr>\n",
       "    <tr>\n",
       "      <th>3x-super-tiny-t5</th>\n",
       "      <td>18.3</td>\n",
       "      <td>4.46</td>\n",
       "      <td>0.036762</td>\n",
       "    </tr>\n",
       "  </tbody>\n",
       "</table>\n",
       "</div>"
      ],
      "text/plain": [
       "                  Size (MB)  Quantized Size (MB)       WER\n",
       "t5                   1250.0               481.00  0.017890\n",
       "small-t5              355.6               195.00  0.018797\n",
       "tiny-t5               208.0               103.00  0.032804\n",
       "super-tiny-t5          81.8                27.10  0.035114\n",
       "3x-super-tiny-t5       18.3                 4.46  0.036762"
      ]
     },
     "execution_count": 9,
     "metadata": {},
     "output_type": "execute_result"
    }
   ],
   "source": [
    "malaya.tatabahasa.available_transformer()\n"
   ]
  },
  {
   "cell_type": "code",
   "execution_count": 10,
   "metadata": {},
   "outputs": [],
   "source": [
    "model = malaya.tatabahasa.transformer(model = 'small-t5')\n"
   ]
  },
  {
   "cell_type": "code",
   "execution_count": 11,
   "metadata": {},
   "outputs": [
    {
     "data": {
      "text/html": [
       "<div>\n",
       "<style scoped>\n",
       "    .dataframe tbody tr th:only-of-type {\n",
       "        vertical-align: middle;\n",
       "    }\n",
       "\n",
       "    .dataframe tbody tr th {\n",
       "        vertical-align: top;\n",
       "    }\n",
       "\n",
       "    .dataframe thead th {\n",
       "        text-align: right;\n",
       "    }\n",
       "</style>\n",
       "<table border=\"1\" class=\"dataframe\">\n",
       "  <thead>\n",
       "    <tr style=\"text-align: right;\">\n",
       "      <th></th>\n",
       "      <th>Tweets</th>\n",
       "      <th>name_length</th>\n",
       "      <th>Transformed_Tweets</th>\n",
       "    </tr>\n",
       "  </thead>\n",
       "  <tbody>\n",
       "    <tr>\n",
       "      <th>0</th>\n",
       "      <td>Dah la tiba2 ada masalah, nak menangis dah lepastu kena pressured lagi kena paksa present depan dia. But u gotta work professional tak boleh menangis in front of people. Elok je org tu blah berderai noq air mata.</td>\n",
       "      <td>213</td>\n",
       "      <td>[Dah la tiba2 ada masalah , nak menangis dah lepastu kena pressured lagi kena paksa present depan dia . But u gotta work professional tak boleh menangis in front of people . Elok je org tu blah berderai noq air mata .]</td>\n",
       "    </tr>\n",
       "    <tr>\n",
       "      <th>1</th>\n",
       "      <td>Salah faham umat dalam satu tweet.</td>\n",
       "      <td>35</td>\n",
       "      <td>[Salah faham umat dalam satu tweet .]</td>\n",
       "    </tr>\n",
       "    <tr>\n",
       "      <th>2</th>\n",
       "      <td>sama la baru start hujan ni</td>\n",
       "      <td>28</td>\n",
       "      <td>[sama la baru start hujan ni]</td>\n",
       "    </tr>\n",
       "    <tr>\n",
       "      <th>3</th>\n",
       "      <td>This thread 🫂💖</td>\n",
       "      <td>15</td>\n",
       "      <td>[This thread  ⁇   ⁇ ]</td>\n",
       "    </tr>\n",
       "    <tr>\n",
       "      <th>4</th>\n",
       "      <td>BF wasep nk break.\\nMcm nk nagis, tp cm aku bnyak keje siot, pg2 ko reply aku cmni? Apekah..\\n\\nEh, dah jd ex BF dah</td>\n",
       "      <td>114</td>\n",
       "      <td>[BF wasep nk break , Mcm nk nagis , tp cm aku bnyak keje siot , pg2 ko reply aku cmni . Apekah . . Eh , dah jd ex BF dah]</td>\n",
       "    </tr>\n",
       "  </tbody>\n",
       "</table>\n",
       "</div>"
      ],
      "text/plain": [
       "                                                                                                                                                                                                                  Tweets  \\\n",
       "0  Dah la tiba2 ada masalah, nak menangis dah lepastu kena pressured lagi kena paksa present depan dia. But u gotta work professional tak boleh menangis in front of people. Elok je org tu blah berderai noq air mata.    \n",
       "1                                                                                                                                                                                    Salah faham umat dalam satu tweet.    \n",
       "2                                                                                                                                                                                           sama la baru start hujan ni    \n",
       "3                                                                                                                                                                                                        This thread 🫂💖    \n",
       "4                                                                                                  BF wasep nk break.\\nMcm nk nagis, tp cm aku bnyak keje siot, pg2 ko reply aku cmni? Apekah..\\n\\nEh, dah jd ex BF dah    \n",
       "\n",
       "   name_length  \\\n",
       "0          213   \n",
       "1           35   \n",
       "2           28   \n",
       "3           15   \n",
       "4          114   \n",
       "\n",
       "                                                                                                                                                                                                           Transformed_Tweets  \n",
       "0  [Dah la tiba2 ada masalah , nak menangis dah lepastu kena pressured lagi kena paksa present depan dia . But u gotta work professional tak boleh menangis in front of people . Elok je org tu blah berderai noq air mata .]  \n",
       "1                                                                                                                                                                                       [Salah faham umat dalam satu tweet .]  \n",
       "2                                                                                                                                                                                               [sama la baru start hujan ni]  \n",
       "3                                                                                                                                                                                                       [This thread  ⁇   ⁇ ]  \n",
       "4                                                                                                   [BF wasep nk break , Mcm nk nagis , tp cm aku bnyak keje siot , pg2 ko reply aku cmni . Apekah . . Eh , dah jd ex BF dah]  "
      ]
     },
     "execution_count": 11,
     "metadata": {},
     "output_type": "execute_result"
    }
   ],
   "source": [
    "# MALAYA transformer MODEL\n",
    "def getTransformer(tweet):\n",
    "    return model.greedy_decoder([tweet])\n",
    "\n",
    "df['Transformed_Tweets']= df['Tweets'].apply(getTransformer)\n",
    "# Show new data\n",
    "df.head()"
   ]
  },
  {
   "cell_type": "code",
   "execution_count": 14,
   "metadata": {},
   "outputs": [
    {
     "data": {
      "text/plain": [
       "['Sally sedang membaca bila dia tiba di rumahnya .']"
      ]
     },
     "execution_count": 14,
     "metadata": {},
     "output_type": "execute_result"
    }
   ],
   "source": [
    "string = 'Sally sedang membaca bila saya tiba di rumahnya.'\n",
    "model.greedy_decoder([string])\n"
   ]
  }
 ],
 "metadata": {
  "interpreter": {
   "hash": "83e5a59c838590404f8b65ce8fce0ae39738db65c435e0c3aa38504e105488ca"
  },
  "kernelspec": {
   "display_name": "Python 3.10.4 ('myenv')",
   "language": "python",
   "name": "python3"
  },
  "language_info": {
   "codemirror_mode": {
    "name": "ipython",
    "version": 3
   },
   "file_extension": ".py",
   "mimetype": "text/x-python",
   "name": "python",
   "nbconvert_exporter": "python",
   "pygments_lexer": "ipython3",
   "version": "3.10.4"
  },
  "orig_nbformat": 4
 },
 "nbformat": 4,
 "nbformat_minor": 2
}
