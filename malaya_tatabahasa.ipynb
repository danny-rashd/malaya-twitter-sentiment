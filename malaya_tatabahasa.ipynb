{
 "cells": [
  {
   "cell_type": "code",
   "execution_count": null,
   "metadata": {},
   "outputs": [],
   "source": [
    "%%time\n",
    "import malaya\n",
    "import tweepy\n",
    "import pandas as pd\n",
    "import re   \n",
    "from wordcloud import WordCloud\n",
    "import matplotlib as mpl\n",
    "import matplotlib.pyplot as plt\n",
    "plt.style.use('fivethirtyeight')\n",
    "from pprint import pprint"
   ]
  },
  {
   "cell_type": "code",
   "execution_count": null,
   "metadata": {},
   "outputs": [],
   "source": [
    "consumer_key = 'XiskKweI7YmS1XhyQtgon9KiC'\n",
    "consumer_secret = 'ZlQTnJ9KVydN0wkOF1wQUgSw27yDkoHt4cZB8naGoYLxM8YWXb'\n",
    "access_token = '402749260-966yCx3SGNyYCzrVYPUC8L3Pphc1rkg8m7d9YniF'\n",
    "access_token_secret = '7o2Agu8oyoL25pOd3T4MSb3zuIXNtFKcaEz269gzdf2Bi'\n",
    "\n",
    "auth=tweepy.OAuthHandler(consumer_key,consumer_secret)\n",
    "auth.set_access_token(access_token,access_token_secret)"
   ]
  },
  {
   "cell_type": "code",
   "execution_count": null,
   "metadata": {},
   "outputs": [],
   "source": [
    "api=tweepy.API(auth)"
   ]
  },
  {
   "cell_type": "code",
   "execution_count": null,
   "metadata": {},
   "outputs": [],
   "source": [
    "# regex_txt = \"https\"\n",
    "# regex = re.compile(regex_txt, re.IGNORECASE)\n",
    "# match = regex.search(regex_txt)  # From your file reading code.\n",
    "# if match is not None:\n",
    "#     break\n",
    "q=\"brgsjks\""
   ]
  },
  {
   "cell_type": "code",
   "execution_count": null,
   "metadata": {},
   "outputs": [],
   "source": [
    "public_tweets=api.search_tweets(q+' exclude:retweets exclude:replies',count='10',tweet_mode=\"extended\")\n",
    "i=1\n",
    "for tweet in public_tweets:\n",
    "    print(str(i)+')'+tweet.full_text+\" \\n\")\n",
    "    i=i+1"
   ]
  },
  {
   "cell_type": "code",
   "execution_count": null,
   "metadata": {},
   "outputs": [],
   "source": [
    "pd.set_option('display.max_colwidth', None)\n",
    "df = pd.DataFrame([tweet.full_text for tweet in public_tweets], columns=['Tweets'])\n",
    "\n",
    "# Show 5 rows of data\n",
    "df.head()"
   ]
  },
  {
   "cell_type": "code",
   "execution_count": null,
   "metadata": {},
   "outputs": [],
   "source": [
    "# filter columns\n",
    "def cleanTweet(tweet):\n",
    "    tweet= re.sub(r'https?:\\/\\/\\S+','',tweet) #remove hyperlinks\n",
    "    tweet=re.sub(r'&[A-Za-z0-9!@#$%^&*()]','', tweet) \n",
    "    return tweet\n",
    "\n",
    "df['Tweets']=df['Tweets'].apply(cleanTweet)\n",
    "df['name_length'] = df['Tweets'].str.len()\n",
    "df.head()"
   ]
  },
  {
   "cell_type": "code",
   "execution_count": null,
   "metadata": {},
   "outputs": [],
   "source": [
    "malaya.tatabahasa.available_transformer()\n"
   ]
  },
  {
   "cell_type": "code",
   "execution_count": null,
   "metadata": {},
   "outputs": [],
   "source": [
    "model = malaya.tatabahasa.transformer(model = 'small-t5')\n"
   ]
  },
  {
   "cell_type": "code",
   "execution_count": null,
   "metadata": {},
   "outputs": [],
   "source": [
    "# MALAYA transformer MODEL\n",
    "def getTransformer(tweet):\n",
    "    return model.greedy_decoder([tweet])\n",
    "\n",
    "df['Transformed_Tweets']= df['Tweets'].apply(getTransformer)\n",
    "# Show new data\n",
    "df.head()"
   ]
  },
  {
   "cell_type": "code",
   "execution_count": null,
   "metadata": {},
   "outputs": [],
   "source": [
    "string = 'Sally sedang membaca bila saya tiba di rumahnya.'\n",
    "model.greedy_decoder([string])\n"
   ]
  }
 ],
 "metadata": {
  "interpreter": {
   "hash": "83e5a59c838590404f8b65ce8fce0ae39738db65c435e0c3aa38504e105488ca"
  },
  "kernelspec": {
   "display_name": "Python 3.10.4 ('myenv')",
   "language": "python",
   "name": "python3"
  },
  "language_info": {
   "codemirror_mode": {
    "name": "ipython",
    "version": 3
   },
   "file_extension": ".py",
   "mimetype": "text/x-python",
   "name": "python",
   "nbconvert_exporter": "python",
   "pygments_lexer": "ipython3",
   "version": "3.10.5"
  },
  "orig_nbformat": 4
 },
 "nbformat": 4,
 "nbformat_minor": 2
}
