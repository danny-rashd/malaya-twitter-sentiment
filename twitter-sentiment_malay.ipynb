{
 "cells": [
  {
   "cell_type": "code",
   "execution_count": 1,
   "metadata": {},
   "outputs": [
    {
     "name": "stderr",
     "output_type": "stream",
     "text": [
      "c:\\Users\\User\\myenv\\lib\\site-packages\\malaya_boilerplate\\frozen_graph.py:28: UserWarning: Cannot import beam_search_ops from Tensorflow Addons, `deep_model` for stemmer will not available to use, make sure Tensorflow Addons version >= 0.12.0\n",
      "  warnings.warn(\n"
     ]
    },
    {
     "name": "stdout",
     "output_type": "stream",
     "text": [
      "CPU times: total: 3.73 s\n",
      "Wall time: 3.77 s\n"
     ]
    }
   ],
   "source": [
    "%%time\n",
    "import malaya\n",
    "import tweepy\n",
    "import pandas as pd\n",
    "import re   \n",
    "from wordcloud import WordCloud\n",
    "import matplotlib as mpl\n",
    "import matplotlib.pyplot as plt\n",
    "plt.style.use('fivethirtyeight')"
   ]
  },
  {
   "cell_type": "code",
   "execution_count": 2,
   "metadata": {},
   "outputs": [
    {
     "data": {
      "text/plain": [
       "True"
      ]
     },
     "execution_count": 2,
     "metadata": {},
     "output_type": "execute_result"
    }
   ],
   "source": [
    "from dotenv import load_dotenv\n",
    "import os\n",
    "load_dotenv()"
   ]
  },
  {
   "cell_type": "code",
   "execution_count": 3,
   "metadata": {},
   "outputs": [],
   "source": [
    "consumer_key = os.getenv('CONSUMER_KEY')\n",
    "consumer_secret = os.getenv('CONSUMER_SECRET')\n",
    "access_token = os.getenv('ACCESS_SECRET')\n",
    "access_token_secret = os.getenv('ACCESS_TOKEN_SECRET')\n",
    "\n",
    "auth=tweepy.OAuthHandler(consumer_key,consumer_secret)\n",
    "auth.set_access_token(access_token,access_token_secret)"
   ]
  },
  {
   "cell_type": "code",
   "execution_count": 4,
   "metadata": {},
   "outputs": [],
   "source": [
    "api=tweepy.API(auth)"
   ]
  },
  {
   "cell_type": "code",
   "execution_count": 5,
   "metadata": {},
   "outputs": [],
   "source": [
    "# regex_txt = \"https\"\n",
    "# regex = re.compile(regex_txt, re.IGNORECASE)\n",
    "# match = regex.search(regex_txt)  # From your file reading code.\n",
    "# if match is not None:\n",
    "#     break\n",
    "q=\"brgsjks\""
   ]
  },
  {
   "cell_type": "code",
   "execution_count": 6,
   "metadata": {},
   "outputs": [
    {
     "name": "stdout",
     "output_type": "stream",
     "text": [
      "1)Bangun sebab dah biasa bangun awal https://t.co/VyXTesJJAd \n",
      "\n",
      "2)saling jeles menjelesi https://t.co/D4u4ttY8W6 \n",
      "\n",
      "3)Sebab memang tercelik matanya https://t.co/GOQ6y29KGb \n",
      "\n",
      "4)Kalau hang ada problem dengan parents hang, pi la sound depan depan, meratib kat social media bukan la settle problem pun. Dia macam hang ajak orang maki beramai ramai lepastu sama je la problem tak hilang. \n",
      "\n",
      "5)that white iced chocolate from gloria jean's is so underrated. sedap nyaaaaaa https://t.co/gCukHfBuuR \n",
      "\n",
      "6)Mahatma Gandhi? https://t.co/tnVOXViAjg \n",
      "\n",
      "7)Yes https://t.co/44EXcV2Aoj \n",
      "\n",
      "8)Jum ? @syahmi_azuan https://t.co/N5YEMh3Tow \n",
      "\n",
      "9)HAHAHA mestilah yang second tu 😔 https://t.co/JdkQ6l1MCR \n",
      "\n",
      "10)safe flight M, take care &amp; see you soon 🥺💫 \n",
      "\n"
     ]
    }
   ],
   "source": [
    "public_tweets=api.search_tweets(q+' exclude:retweets exclude:replies',count='10',tweet_mode=\"extended\")\n",
    "i=1\n",
    "for tweet in public_tweets:\n",
    "    print(str(i)+')'+tweet.full_text+\" \\n\")\n",
    "    i=i+1"
   ]
  },
  {
   "cell_type": "code",
   "execution_count": 7,
   "metadata": {},
   "outputs": [
    {
     "data": {
      "text/html": [
       "<div>\n",
       "<style scoped>\n",
       "    .dataframe tbody tr th:only-of-type {\n",
       "        vertical-align: middle;\n",
       "    }\n",
       "\n",
       "    .dataframe tbody tr th {\n",
       "        vertical-align: top;\n",
       "    }\n",
       "\n",
       "    .dataframe thead th {\n",
       "        text-align: right;\n",
       "    }\n",
       "</style>\n",
       "<table border=\"1\" class=\"dataframe\">\n",
       "  <thead>\n",
       "    <tr style=\"text-align: right;\">\n",
       "      <th></th>\n",
       "      <th>Tweets</th>\n",
       "    </tr>\n",
       "  </thead>\n",
       "  <tbody>\n",
       "    <tr>\n",
       "      <th>0</th>\n",
       "      <td>Bangun sebab dah biasa bangun awal https://t.co/VyXTesJJAd</td>\n",
       "    </tr>\n",
       "    <tr>\n",
       "      <th>1</th>\n",
       "      <td>saling jeles menjelesi https://t.co/D4u4ttY8W6</td>\n",
       "    </tr>\n",
       "    <tr>\n",
       "      <th>2</th>\n",
       "      <td>Sebab memang tercelik matanya https://t.co/GOQ6y29KGb</td>\n",
       "    </tr>\n",
       "    <tr>\n",
       "      <th>3</th>\n",
       "      <td>Kalau hang ada problem dengan parents hang, pi la sound depan depan, meratib kat social media bukan la settle problem pun. Dia macam hang ajak orang maki beramai ramai lepastu sama je la problem tak hilang.</td>\n",
       "    </tr>\n",
       "    <tr>\n",
       "      <th>4</th>\n",
       "      <td>that white iced chocolate from gloria jean's is so underrated. sedap nyaaaaaa https://t.co/gCukHfBuuR</td>\n",
       "    </tr>\n",
       "  </tbody>\n",
       "</table>\n",
       "</div>"
      ],
      "text/plain": [
       "                                                                                                                                                                                                           Tweets\n",
       "0                                                                                                                                                      Bangun sebab dah biasa bangun awal https://t.co/VyXTesJJAd\n",
       "1                                                                                                                                                                  saling jeles menjelesi https://t.co/D4u4ttY8W6\n",
       "2                                                                                                                                                           Sebab memang tercelik matanya https://t.co/GOQ6y29KGb\n",
       "3  Kalau hang ada problem dengan parents hang, pi la sound depan depan, meratib kat social media bukan la settle problem pun. Dia macam hang ajak orang maki beramai ramai lepastu sama je la problem tak hilang.\n",
       "4                                                                                                           that white iced chocolate from gloria jean's is so underrated. sedap nyaaaaaa https://t.co/gCukHfBuuR"
      ]
     },
     "execution_count": 7,
     "metadata": {},
     "output_type": "execute_result"
    }
   ],
   "source": [
    "pd.set_option('display.max_colwidth', None)\n",
    "df = pd.DataFrame([tweet.full_text for tweet in public_tweets], columns=['Tweets'])\n",
    "\n",
    "# Show 5 rows of data\n",
    "df.head()"
   ]
  },
  {
   "cell_type": "code",
   "execution_count": 8,
   "metadata": {},
   "outputs": [
    {
     "data": {
      "text/html": [
       "<div>\n",
       "<style scoped>\n",
       "    .dataframe tbody tr th:only-of-type {\n",
       "        vertical-align: middle;\n",
       "    }\n",
       "\n",
       "    .dataframe tbody tr th {\n",
       "        vertical-align: top;\n",
       "    }\n",
       "\n",
       "    .dataframe thead th {\n",
       "        text-align: right;\n",
       "    }\n",
       "</style>\n",
       "<table border=\"1\" class=\"dataframe\">\n",
       "  <thead>\n",
       "    <tr style=\"text-align: right;\">\n",
       "      <th></th>\n",
       "      <th>Tweets</th>\n",
       "      <th>name_length</th>\n",
       "    </tr>\n",
       "  </thead>\n",
       "  <tbody>\n",
       "    <tr>\n",
       "      <th>0</th>\n",
       "      <td>Bangun sebab dah biasa bangun awal</td>\n",
       "      <td>35</td>\n",
       "    </tr>\n",
       "    <tr>\n",
       "      <th>1</th>\n",
       "      <td>saling jeles menjelesi</td>\n",
       "      <td>23</td>\n",
       "    </tr>\n",
       "    <tr>\n",
       "      <th>2</th>\n",
       "      <td>Sebab memang tercelik matanya</td>\n",
       "      <td>30</td>\n",
       "    </tr>\n",
       "    <tr>\n",
       "      <th>3</th>\n",
       "      <td>Kalau hang ada problem dengan parents hang, pi la sound depan depan, meratib kat social media bukan la settle problem pun. Dia macam hang ajak orang maki beramai ramai lepastu sama je la problem tak hilang.</td>\n",
       "      <td>206</td>\n",
       "    </tr>\n",
       "    <tr>\n",
       "      <th>4</th>\n",
       "      <td>that white iced chocolate from gloria jean's is so underrated. sedap nyaaaaaa</td>\n",
       "      <td>78</td>\n",
       "    </tr>\n",
       "  </tbody>\n",
       "</table>\n",
       "</div>"
      ],
      "text/plain": [
       "                                                                                                                                                                                                           Tweets  \\\n",
       "0                                                                                                                                                                             Bangun sebab dah biasa bangun awal    \n",
       "1                                                                                                                                                                                         saling jeles menjelesi    \n",
       "2                                                                                                                                                                                  Sebab memang tercelik matanya    \n",
       "3  Kalau hang ada problem dengan parents hang, pi la sound depan depan, meratib kat social media bukan la settle problem pun. Dia macam hang ajak orang maki beramai ramai lepastu sama je la problem tak hilang.   \n",
       "4                                                                                                                                  that white iced chocolate from gloria jean's is so underrated. sedap nyaaaaaa    \n",
       "\n",
       "   name_length  \n",
       "0           35  \n",
       "1           23  \n",
       "2           30  \n",
       "3          206  \n",
       "4           78  "
      ]
     },
     "execution_count": 8,
     "metadata": {},
     "output_type": "execute_result"
    }
   ],
   "source": [
    "# filter columns\n",
    "def cleanTweet(tweet):\n",
    "    tweet= re.sub(r'https?:\\/\\/\\S+','',tweet) #remove hyperlinks\n",
    "    tweet=re.sub(r'&[A-Za-z0-9!@#$%^&*()]','', tweet) \n",
    "    return tweet\n",
    "\n",
    "df['Tweets']=df['Tweets'].apply(cleanTweet)\n",
    "df['name_length'] = df['Tweets'].str.len()\n",
    "df.head()"
   ]
  },
  {
   "cell_type": "code",
   "execution_count": 9,
   "metadata": {},
   "outputs": [
    {
     "data": {
      "text/html": [
       "<div>\n",
       "<style scoped>\n",
       "    .dataframe tbody tr th:only-of-type {\n",
       "        vertical-align: middle;\n",
       "    }\n",
       "\n",
       "    .dataframe tbody tr th {\n",
       "        vertical-align: top;\n",
       "    }\n",
       "\n",
       "    .dataframe thead th {\n",
       "        text-align: right;\n",
       "    }\n",
       "</style>\n",
       "<table border=\"1\" class=\"dataframe\">\n",
       "  <thead>\n",
       "    <tr style=\"text-align: right;\">\n",
       "      <th></th>\n",
       "      <th>Tweets</th>\n",
       "    </tr>\n",
       "  </thead>\n",
       "  <tbody>\n",
       "    <tr>\n",
       "      <th>0</th>\n",
       "      <td>Bangun sebab dah biasa bangun awal</td>\n",
       "    </tr>\n",
       "    <tr>\n",
       "      <th>1</th>\n",
       "      <td>saling jeles menjelesi</td>\n",
       "    </tr>\n",
       "    <tr>\n",
       "      <th>2</th>\n",
       "      <td>Sebab memang tercelik matanya</td>\n",
       "    </tr>\n",
       "    <tr>\n",
       "      <th>3</th>\n",
       "      <td>Kalau hang ada problem dengan parents hang, pi la sound depan depan, meratib kat social media bukan la settle problem pun. Dia macam hang ajak orang maki beramai ramai lepastu sama je la problem tak hilang.</td>\n",
       "    </tr>\n",
       "    <tr>\n",
       "      <th>4</th>\n",
       "      <td>that white iced chocolate from gloria jean's is so underrated. sedap nyaaaaaa</td>\n",
       "    </tr>\n",
       "  </tbody>\n",
       "</table>\n",
       "</div>"
      ],
      "text/plain": [
       "                                                                                                                                                                                                           Tweets\n",
       "0                                                                                                                                                                             Bangun sebab dah biasa bangun awal \n",
       "1                                                                                                                                                                                         saling jeles menjelesi \n",
       "2                                                                                                                                                                                  Sebab memang tercelik matanya \n",
       "3  Kalau hang ada problem dengan parents hang, pi la sound depan depan, meratib kat social media bukan la settle problem pun. Dia macam hang ajak orang maki beramai ramai lepastu sama je la problem tak hilang.\n",
       "4                                                                                                                                  that white iced chocolate from gloria jean's is so underrated. sedap nyaaaaaa "
      ]
     },
     "execution_count": 9,
     "metadata": {},
     "output_type": "execute_result"
    }
   ],
   "source": [
    "# df = df[df['name_length'] > 1]    \n",
    "df=df.drop(columns=['name_length'])\n",
    "df.head()"
   ]
  },
  {
   "cell_type": "code",
   "execution_count": 10,
   "metadata": {},
   "outputs": [],
   "source": [
    "model = malaya.sentiment.multinomial()"
   ]
  },
  {
   "cell_type": "code",
   "execution_count": 11,
   "metadata": {},
   "outputs": [
    {
     "data": {
      "text/html": [
       "<div>\n",
       "<style scoped>\n",
       "    .dataframe tbody tr th:only-of-type {\n",
       "        vertical-align: middle;\n",
       "    }\n",
       "\n",
       "    .dataframe tbody tr th {\n",
       "        vertical-align: top;\n",
       "    }\n",
       "\n",
       "    .dataframe thead th {\n",
       "        text-align: right;\n",
       "    }\n",
       "</style>\n",
       "<table border=\"1\" class=\"dataframe\">\n",
       "  <thead>\n",
       "    <tr style=\"text-align: right;\">\n",
       "      <th></th>\n",
       "      <th>Tweets</th>\n",
       "      <th>Sentiment_1</th>\n",
       "    </tr>\n",
       "  </thead>\n",
       "  <tbody>\n",
       "    <tr>\n",
       "      <th>0</th>\n",
       "      <td>Bangun sebab dah biasa bangun awal</td>\n",
       "      <td>[negative]</td>\n",
       "    </tr>\n",
       "    <tr>\n",
       "      <th>1</th>\n",
       "      <td>saling jeles menjelesi</td>\n",
       "      <td>[negative]</td>\n",
       "    </tr>\n",
       "    <tr>\n",
       "      <th>2</th>\n",
       "      <td>Sebab memang tercelik matanya</td>\n",
       "      <td>[negative]</td>\n",
       "    </tr>\n",
       "    <tr>\n",
       "      <th>3</th>\n",
       "      <td>Kalau hang ada problem dengan parents hang, pi la sound depan depan, meratib kat social media bukan la settle problem pun. Dia macam hang ajak orang maki beramai ramai lepastu sama je la problem tak hilang.</td>\n",
       "      <td>[negative]</td>\n",
       "    </tr>\n",
       "    <tr>\n",
       "      <th>4</th>\n",
       "      <td>that white iced chocolate from gloria jean's is so underrated. sedap nyaaaaaa</td>\n",
       "      <td>[neutral]</td>\n",
       "    </tr>\n",
       "  </tbody>\n",
       "</table>\n",
       "</div>"
      ],
      "text/plain": [
       "                                                                                                                                                                                                           Tweets  \\\n",
       "0                                                                                                                                                                             Bangun sebab dah biasa bangun awal    \n",
       "1                                                                                                                                                                                         saling jeles menjelesi    \n",
       "2                                                                                                                                                                                  Sebab memang tercelik matanya    \n",
       "3  Kalau hang ada problem dengan parents hang, pi la sound depan depan, meratib kat social media bukan la settle problem pun. Dia macam hang ajak orang maki beramai ramai lepastu sama je la problem tak hilang.   \n",
       "4                                                                                                                                  that white iced chocolate from gloria jean's is so underrated. sedap nyaaaaaa    \n",
       "\n",
       "  Sentiment_1  \n",
       "0  [negative]  \n",
       "1  [negative]  \n",
       "2  [negative]  \n",
       "3  [negative]  \n",
       "4   [neutral]  "
      ]
     },
     "execution_count": 11,
     "metadata": {},
     "output_type": "execute_result"
    }
   ],
   "source": [
    "# MALAYA MULTINOMIAL MODEL\n",
    "def getMultinomialSentiment(tweet):\n",
    "    return model.predict([tweet])\n",
    "\n",
    "df['Sentiment_1']= df['Tweets'].apply(getMultinomialSentiment)\n",
    "# Show new data\n",
    "df.head()"
   ]
  },
  {
   "cell_type": "code",
   "execution_count": 12,
   "metadata": {},
   "outputs": [
    {
     "name": "stdout",
     "output_type": "stream",
     "text": [
      "0     [{'negative': 0.5052997923980653, 'neutral': 0.2419181649328261, 'positive': 0.25278204266910775}]\n",
      "1     [{'negative': 0.4162436645908023, 'neutral': 0.22966294137040608, 'positive': 0.3540933940387908}]\n",
      "2      [{'negative': 0.40172810417194443, 'neutral': 0.335425864636991, 'positive': 0.2628460311910641}]\n",
      "3    [{'negative': 0.9132081925873065, 'neutral': 0.03984891584108896, 'positive': 0.04694289157160745}]\n",
      "4    [{'negative': 0.24570159538093878, 'neutral': 0.39365366474156727, 'positive': 0.3606447398774963}]\n",
      "5    [{'negative': 0.28250295327916536, 'neutral': 0.33233064563636544, 'positive': 0.3851664010844682}]\n",
      "6     [{'negative': 0.4431467899532565, 'neutral': 0.23260536705473897, 'positive': 0.3242478429920049}]\n",
      "7    [{'negative': 0.25223007100965295, 'neutral': 0.4469667801174151, 'positive': 0.30080314887293186}]\n",
      "8     [{'negative': 0.3643630531242803, 'neutral': 0.3382207407262523, 'positive': 0.29741620614946784}]\n",
      "9     [{'negative': 0.30041144902346306, 'neutral': 0.2173720439524708, 'positive': 0.4822165070240675}]\n",
      "Name: Probability, dtype: object\n"
     ]
    }
   ],
   "source": [
    "# MALAYA MULTINOMIAL MODEL PROBABILITY\n",
    "def getMultinomialProba(tweet):\n",
    "    return model.predict_proba([tweet])\n",
    "\n",
    "df['Probability']= df['Tweets'].apply(getMultinomialProba)\n",
    "# Show new data ()\n",
    "print(df['Probability'])                                                            "
   ]
  },
  {
   "cell_type": "code",
   "execution_count": 13,
   "metadata": {},
   "outputs": [
    {
     "name": "stderr",
     "output_type": "stream",
     "text": [
      "Load quantized model will cause accuracy drop.\n"
     ]
    }
   ],
   "source": [
    "quantized_model = malaya.sentiment.transformer(model = 'fastformer', quantized = True)"
   ]
  },
  {
   "cell_type": "code",
   "execution_count": 14,
   "metadata": {},
   "outputs": [
    {
     "data": {
      "text/html": [
       "<div>\n",
       "<style scoped>\n",
       "    .dataframe tbody tr th:only-of-type {\n",
       "        vertical-align: middle;\n",
       "    }\n",
       "\n",
       "    .dataframe tbody tr th {\n",
       "        vertical-align: top;\n",
       "    }\n",
       "\n",
       "    .dataframe thead th {\n",
       "        text-align: right;\n",
       "    }\n",
       "</style>\n",
       "<table border=\"1\" class=\"dataframe\">\n",
       "  <thead>\n",
       "    <tr style=\"text-align: right;\">\n",
       "      <th></th>\n",
       "      <th>Tweets</th>\n",
       "      <th>Sentiment_1</th>\n",
       "      <th>Probability</th>\n",
       "      <th>Sentiment_2</th>\n",
       "    </tr>\n",
       "  </thead>\n",
       "  <tbody>\n",
       "    <tr>\n",
       "      <th>0</th>\n",
       "      <td>Bangun sebab dah biasa bangun awal</td>\n",
       "      <td>[negative]</td>\n",
       "      <td>[{'negative': 0.5052997923980653, 'neutral': 0.2419181649328261, 'positive': 0.25278204266910775}]</td>\n",
       "      <td>[negative]</td>\n",
       "    </tr>\n",
       "    <tr>\n",
       "      <th>1</th>\n",
       "      <td>saling jeles menjelesi</td>\n",
       "      <td>[negative]</td>\n",
       "      <td>[{'negative': 0.4162436645908023, 'neutral': 0.22966294137040608, 'positive': 0.3540933940387908}]</td>\n",
       "      <td>[negative]</td>\n",
       "    </tr>\n",
       "    <tr>\n",
       "      <th>2</th>\n",
       "      <td>Sebab memang tercelik matanya</td>\n",
       "      <td>[negative]</td>\n",
       "      <td>[{'negative': 0.40172810417194443, 'neutral': 0.335425864636991, 'positive': 0.2628460311910641}]</td>\n",
       "      <td>[negative]</td>\n",
       "    </tr>\n",
       "    <tr>\n",
       "      <th>3</th>\n",
       "      <td>Kalau hang ada problem dengan parents hang, pi la sound depan depan, meratib kat social media bukan la settle problem pun. Dia macam hang ajak orang maki beramai ramai lepastu sama je la problem tak hilang.</td>\n",
       "      <td>[negative]</td>\n",
       "      <td>[{'negative': 0.9132081925873065, 'neutral': 0.03984891584108896, 'positive': 0.04694289157160745}]</td>\n",
       "      <td>[negative]</td>\n",
       "    </tr>\n",
       "    <tr>\n",
       "      <th>4</th>\n",
       "      <td>that white iced chocolate from gloria jean's is so underrated. sedap nyaaaaaa</td>\n",
       "      <td>[neutral]</td>\n",
       "      <td>[{'negative': 0.24570159538093878, 'neutral': 0.39365366474156727, 'positive': 0.3606447398774963}]</td>\n",
       "      <td>[neutral]</td>\n",
       "    </tr>\n",
       "  </tbody>\n",
       "</table>\n",
       "</div>"
      ],
      "text/plain": [
       "                                                                                                                                                                                                           Tweets  \\\n",
       "0                                                                                                                                                                             Bangun sebab dah biasa bangun awal    \n",
       "1                                                                                                                                                                                         saling jeles menjelesi    \n",
       "2                                                                                                                                                                                  Sebab memang tercelik matanya    \n",
       "3  Kalau hang ada problem dengan parents hang, pi la sound depan depan, meratib kat social media bukan la settle problem pun. Dia macam hang ajak orang maki beramai ramai lepastu sama je la problem tak hilang.   \n",
       "4                                                                                                                                  that white iced chocolate from gloria jean's is so underrated. sedap nyaaaaaa    \n",
       "\n",
       "  Sentiment_1  \\\n",
       "0  [negative]   \n",
       "1  [negative]   \n",
       "2  [negative]   \n",
       "3  [negative]   \n",
       "4   [neutral]   \n",
       "\n",
       "                                                                                           Probability  \\\n",
       "0   [{'negative': 0.5052997923980653, 'neutral': 0.2419181649328261, 'positive': 0.25278204266910775}]   \n",
       "1   [{'negative': 0.4162436645908023, 'neutral': 0.22966294137040608, 'positive': 0.3540933940387908}]   \n",
       "2    [{'negative': 0.40172810417194443, 'neutral': 0.335425864636991, 'positive': 0.2628460311910641}]   \n",
       "3  [{'negative': 0.9132081925873065, 'neutral': 0.03984891584108896, 'positive': 0.04694289157160745}]   \n",
       "4  [{'negative': 0.24570159538093878, 'neutral': 0.39365366474156727, 'positive': 0.3606447398774963}]   \n",
       "\n",
       "  Sentiment_2  \n",
       "0  [negative]  \n",
       "1  [negative]  \n",
       "2  [negative]  \n",
       "3  [negative]  \n",
       "4   [neutral]  "
      ]
     },
     "execution_count": 14,
     "metadata": {},
     "output_type": "execute_result"
    }
   ],
   "source": [
    "# MALAYA MULTINOMIAL MODEL\n",
    "def getFastSentiment(tweet):\n",
    "    return model.predict([tweet])\n",
    "\n",
    "df['Sentiment_2']= df['Tweets'].apply(getFastSentiment)\n",
    "# Show new data\n",
    "df.head()"
   ]
  },
  {
   "cell_type": "code",
   "execution_count": 15,
   "metadata": {},
   "outputs": [
    {
     "data": {
      "text/plain": [
       "(10,)"
      ]
     },
     "execution_count": 15,
     "metadata": {},
     "output_type": "execute_result"
    }
   ],
   "source": [
    "df['Tweets'].shape"
   ]
  },
  {
   "cell_type": "code",
   "execution_count": 16,
   "metadata": {},
   "outputs": [
    {
     "name": "stdout",
     "output_type": "stream",
     "text": [
      "[['Bangun sebab dah biasa bangun awal ' list(['negative'])\n",
      "  list([{'negative': 0.5052997923980653, 'neutral': 0.2419181649328261, 'positive': 0.25278204266910775}])\n",
      "  list(['negative'])]\n",
      " ['saling jeles menjelesi ' list(['negative'])\n",
      "  list([{'negative': 0.4162436645908023, 'neutral': 0.22966294137040608, 'positive': 0.3540933940387908}])\n",
      "  list(['negative'])]\n",
      " ['Sebab memang tercelik matanya ' list(['negative'])\n",
      "  list([{'negative': 0.40172810417194443, 'neutral': 0.335425864636991, 'positive': 0.2628460311910641}])\n",
      "  list(['negative'])]\n",
      " ['Kalau hang ada problem dengan parents hang, pi la sound depan depan, meratib kat social media bukan la settle problem pun. Dia macam hang ajak orang maki beramai ramai lepastu sama je la problem tak hilang.'\n",
      "  list(['negative'])\n",
      "  list([{'negative': 0.9132081925873065, 'neutral': 0.03984891584108896, 'positive': 0.04694289157160745}])\n",
      "  list(['negative'])]\n",
      " [\"that white iced chocolate from gloria jean's is so underrated. sedap nyaaaaaa \"\n",
      "  list(['neutral'])\n",
      "  list([{'negative': 0.24570159538093878, 'neutral': 0.39365366474156727, 'positive': 0.3606447398774963}])\n",
      "  list(['neutral'])]\n",
      " ['Mahatma Gandhi? ' list(['positive'])\n",
      "  list([{'negative': 0.28250295327916536, 'neutral': 0.33233064563636544, 'positive': 0.3851664010844682}])\n",
      "  list(['positive'])]\n",
      " ['Yes ' list(['negative'])\n",
      "  list([{'negative': 0.4431467899532565, 'neutral': 0.23260536705473897, 'positive': 0.3242478429920049}])\n",
      "  list(['negative'])]\n",
      " ['Jum ? @syahmi_azuan ' list(['neutral'])\n",
      "  list([{'negative': 0.25223007100965295, 'neutral': 0.4469667801174151, 'positive': 0.30080314887293186}])\n",
      "  list(['neutral'])]\n",
      " ['HAHAHA mestilah yang second tu 😔 ' list(['negative'])\n",
      "  list([{'negative': 0.3643630531242803, 'neutral': 0.3382207407262523, 'positive': 0.29741620614946784}])\n",
      "  list(['negative'])]\n",
      " ['safe flight M, take care mp; see you soon 🥺💫' list(['positive'])\n",
      "  list([{'negative': 0.30041144902346306, 'neutral': 0.2173720439524708, 'positive': 0.4822165070240675}])\n",
      "  list(['positive'])]]\n"
     ]
    }
   ],
   "source": [
    "print(df.values)"
   ]
  },
  {
   "cell_type": "code",
   "execution_count": 17,
   "metadata": {},
   "outputs": [],
   "source": [
    "# Save dataFrame to .csv\n",
    "df.to_csv(r'tweet_malaya_brgsjks.csv', index = False)"
   ]
  },
  {
   "cell_type": "code",
   "execution_count": 18,
   "metadata": {},
   "outputs": [
    {
     "data": {
      "image/png": "[encoded data removed]",
      "text/plain": [
       "<Figure size 432x288 with 1 Axes>"
      ]
     },
     "metadata": {},
     "output_type": "display_data"
    }
   ],
   "source": [
    "# Plot the World CLoud\n",
    "allWords= ' '.join([twts for twts in df['Tweets']])\n",
    "wordCloud = WordCloud(width=500,height=300, random_state=21, max_font_size=120).generate(allWords)\n",
    "\n",
    "plt.imshow(wordCloud, interpolation=\"bilinear\")\n",
    "plt.axis('off')\n",
    "plt.show()"
   ]
  },
  {
   "cell_type": "code",
   "execution_count": 19,
   "metadata": {},
   "outputs": [],
   "source": [
    "COLOR = 'black'\n",
    "mpl.rcParams['text.color'] = COLOR\n",
    "mpl.rcParams['axes.labelcolor'] = COLOR\n",
    "mpl.rcParams['xtick.color'] = COLOR\n",
    "mpl.rcParams['ytick.color'] = COLOR"
   ]
  },
  {
   "cell_type": "code",
   "execution_count": 20,
   "metadata": {},
   "outputs": [
    {
     "data": {
      "image/png": "[encoded data removed]",
      "text/plain": [
       "<Figure size 432x288 with 1 Axes>"
      ]
     },
     "metadata": {},
     "output_type": "display_data"
    }
   ],
   "source": [
    "df['Sentiment_2'].value_counts()\n",
    "\n",
    "plt.title(\"Sentiment Analysis\")\n",
    "plt.xlabel(\"Sentiment\")\n",
    "plt.ylabel(\"Count\")\n",
    "df['Sentiment_2'].value_counts().plot(kind='bar')\n",
    "plt.show()\n"
   ]
  }
 ],
 "metadata": {
  "kernelspec": {
   "display_name": "Python 3.10.5 ('myenv': venv)",
   "language": "python",
   "name": "python3"
  },
  "language_info": {
   "codemirror_mode": {
    "name": "ipython",
    "version": 3
   },
   "file_extension": ".py",
   "mimetype": "text/x-python",
   "name": "python",
   "nbconvert_exporter": "python",
   "pygments_lexer": "ipython3",
   "version": "3.10.6"
  },
  "orig_nbformat": 4,
  "vscode": {
   "interpreter": {
    "hash": "83e5a59c838590404f8b65ce8fce0ae39738db65c435e0c3aa38504e105488ca"
   }
  }
 },
 "nbformat": 4,
 "nbformat_minor": 2
}
