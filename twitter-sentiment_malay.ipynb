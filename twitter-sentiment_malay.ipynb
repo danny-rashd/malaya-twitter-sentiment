{
 "cells": [
  {
   "cell_type": "code",
   "execution_count": null,
   "metadata": {},
   "outputs": [],
   "source": [
    "%%time\n",
    "import malaya\n",
    "import tweepy\n",
    "import pandas as pd\n",
    "import re   \n",
    "from wordcloud import WordCloud\n",
    "import matplotlib as mpl\n",
    "import matplotlib.pyplot as plt\n",
    "plt.style.use('fivethirtyeight')"
   ]
  },
  {
   "cell_type": "code",
   "execution_count": null,
   "metadata": {},
   "outputs": [],
   "source": [
    "consumer_key = TWITTER_API_CONSUMER_KEY\n",
    "consumer_secret = TWITTER_API_CONSUMER_SECRET\n",
    "access_token = TWITTER_API_ACCESS_TOKEN\n",
    "access_token_secret = TWITTER_API_TOKEN_SECRET\n",
    "\n",
    "auth=tweepy.OAuthHandler(consumer_key,consumer_secret)\n",
    "auth.set_access_token(access_token,access_token_secret)"
   ]
  },
  {
   "cell_type": "code",
   "execution_count": null,
   "metadata": {},
   "outputs": [],
   "source": [
    "api=tweepy.API(auth)"
   ]
  },
  {
   "cell_type": "code",
   "execution_count": null,
   "metadata": {},
   "outputs": [],
   "source": [
    "# regex_txt = \"https\"\n",
    "# regex = re.compile(regex_txt, re.IGNORECASE)\n",
    "# match = regex.search(regex_txt)  # From your file reading code.\n",
    "# if match is not None:\n",
    "#     break\n",
    "q=\"brgsjks\""
   ]
  },
  {
   "cell_type": "code",
   "execution_count": null,
   "metadata": {},
   "outputs": [],
   "source": [
    "public_tweets=api.search_tweets(q+' exclude:retweets exclude:replies',count='100',tweet_mode=\"extended\")\n",
    "i=1\n",
    "for tweet in public_tweets:\n",
    "    print(str(i)+')'+tweet.full_text+\" \\n\")\n",
    "    i=i+1"
   ]
  },
  {
   "cell_type": "code",
   "execution_count": null,
   "metadata": {},
   "outputs": [],
   "source": [
    "pd.set_option('display.max_colwidth', None)\n",
    "df = pd.DataFrame([tweet.full_text for tweet in public_tweets], columns=['Tweets'])\n",
    "\n",
    "# Show 5 rows of data\n",
    "df.head()"
   ]
  },
  {
   "cell_type": "code",
   "execution_count": null,
   "metadata": {},
   "outputs": [],
   "source": [
    "# filter columns\n",
    "def cleanTweet(tweet):\n",
    "    tweet= re.sub(r'https?:\\/\\/\\S+','',tweet) #remove hyperlinks\n",
    "    tweet=re.sub(r'&[A-Za-z0-9!@#$%^&*()]','', tweet) \n",
    "    return tweet\n",
    "\n",
    "df['Tweets']=df['Tweets'].apply(cleanTweet)\n",
    "df['name_length'] = df['Tweets'].str.len()\n",
    "df.head()"
   ]
  },
  {
   "cell_type": "code",
   "execution_count": null,
   "metadata": {},
   "outputs": [],
   "source": [
    "# df = df[df['name_length'] > 1]    \n",
    "df=df.drop(columns=['name_length'])\n",
    "df.head()"
   ]
  },
  {
   "cell_type": "code",
   "execution_count": null,
   "metadata": {},
   "outputs": [],
   "source": [
    "model = malaya.sentiment.multinomial()"
   ]
  },
  {
   "cell_type": "code",
   "execution_count": null,
   "metadata": {},
   "outputs": [],
   "source": [
    "# MALAYA MULTINOMIAL MODEL\n",
    "def getMultinomialSentiment(tweet):\n",
    "    return model.predict([tweet])\n",
    "\n",
    "df['Sentiment_1']= df['Tweets'].apply(getMultinomialSentiment)\n",
    "# Show new data\n",
    "df.head()"
   ]
  },
  {
   "cell_type": "code",
   "execution_count": null,
   "metadata": {},
   "outputs": [],
   "source": [
    "# MALAYA MULTINOMIAL MODEL PROBABILITY\n",
    "def getMultinomialProba(tweet):\n",
    "    return model.predict_proba([tweet])\n",
    "\n",
    "df['Probability']= df['Tweets'].apply(getMultinomialProba)\n",
    "# Show new data\n",
    "print(df['Probability'])                                                            "
   ]
  },
  {
   "cell_type": "code",
   "execution_count": null,
   "metadata": {},
   "outputs": [],
   "source": [
    "quantized_model = malaya.sentiment.transformer(model = 'fastformer', quantized = True)\n"
   ]
  },
  {
   "cell_type": "code",
   "execution_count": null,
   "metadata": {},
   "outputs": [],
   "source": [
    "# MALAYA MULTINOMIAL MODEL\n",
    "def getFastSentiment(tweet):\n",
    "    return model.predict([tweet])\n",
    "\n",
    "df['Sentiment_2']= df['Tweets'].apply(getFastSentiment)\n",
    "# Show new data\n",
    "df.head()"
   ]
  },
  {
   "cell_type": "code",
   "execution_count": null,
   "metadata": {},
   "outputs": [],
   "source": [
    "df['Tweets'].shape"
   ]
  },
  {
   "cell_type": "code",
   "execution_count": null,
   "metadata": {},
   "outputs": [],
   "source": [
    "print(df.values)"
   ]
  },
  {
   "cell_type": "code",
   "execution_count": null,
   "metadata": {},
   "outputs": [],
   "source": [
    "df.to_csv(r'tweet_malaya_brgsjks.csv', index = False)"
   ]
  },
  {
   "cell_type": "code",
   "execution_count": null,
   "metadata": {},
   "outputs": [],
   "source": [
    "#Plot the World CLoud\n",
    "allWords= ' '.join([twts for twts in df['Tweets']])\n",
    "wordCloud = WordCloud(width=500,height=300, random_state=21, max_font_size=120).generate(allWords)\n",
    "\n",
    "plt.imshow(wordCloud, interpolation=\"bilinear\")\n",
    "plt.axis('off')\n",
    "plt.show()"
   ]
  },
  {
   "cell_type": "code",
   "execution_count": null,
   "metadata": {},
   "outputs": [],
   "source": [
    "COLOR = 'black'\n",
    "mpl.rcParams['text.color'] = COLOR\n",
    "mpl.rcParams['axes.labelcolor'] = COLOR\n",
    "mpl.rcParams['xtick.color'] = COLOR\n",
    "mpl.rcParams['ytick.color'] = COLOR"
   ]
  },
  {
   "cell_type": "code",
   "execution_count": null,
   "metadata": {},
   "outputs": [],
   "source": [
    "df['Sentiment_2'].value_counts()\n",
    "\n",
    "plt.title(\"Sentiment Analysis\")\n",
    "plt.xlabel(\"Sentiment\")\n",
    "plt.ylabel(\"Count\")\n",
    "df['Sentiment_2'].value_counts().plot(kind='bar')\n",
    "plt.show()\n"
   ]
  }
 ],
 "metadata": {
  "interpreter": {
   "hash": "83e5a59c838590404f8b65ce8fce0ae39738db65c435e0c3aa38504e105488ca"
  },
  "kernelspec": {
   "display_name": "Python 3.10.4 ('myenv')",
   "language": "python",
   "name": "python3"
  },
  "language_info": {
   "codemirror_mode": {
    "name": "ipython",
    "version": 3
   },
   "file_extension": ".py",
   "mimetype": "text/x-python",
   "name": "python",
   "nbconvert_exporter": "python",
   "pygments_lexer": "ipython3",
   "version": "3.10.4"
  },
  "orig_nbformat": 4
 },
 "nbformat": 4,
 "nbformat_minor": 2
}
